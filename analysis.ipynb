{
 "cells": [
  {
   "cell_type": "markdown",
   "id": "2498b075",
   "metadata": {},
   "source": [
    "Importing Libraries"
   ]
  },
  {
   "cell_type": "code",
   "execution_count": 1,
   "id": "a21e9d35",
   "metadata": {},
   "outputs": [],
   "source": [
    "import pandas as pd\n",
    "from matplotlib.pyplot import hist\n",
    "import matplotlib.pyplot as plt\n",
    "import numpy as np"
   ]
  },
  {
   "cell_type": "markdown",
   "id": "2c076040",
   "metadata": {},
   "source": [
    "Loading date into dataframes"
   ]
  },
  {
   "cell_type": "code",
   "execution_count": 2,
   "id": "4d130784",
   "metadata": {},
   "outputs": [],
   "source": [
    "install = pd.read_csv('data\\\\installs.csv')\n",
    "adspend = pd.read_csv('data\\\\adspend.csv')\n",
    "payout = pd.read_csv('data\\\\payouts.csv')\n",
    "revenue = pd.read_csv('data\\\\revenue.csv')"
   ]
  },
  {
   "cell_type": "markdown",
   "id": "56985a38",
   "metadata": {},
   "source": [
    "Data Validation"
   ]
  },
  {
   "cell_type": "code",
   "execution_count": 3,
   "id": "cb24d21d",
   "metadata": {},
   "outputs": [
    {
     "name": "stdout",
     "output_type": "stream",
     "text": [
      "install null values:  False\n",
      "adspend null values:  False\n",
      "payout null values:  False\n",
      "revenue null values:  False\n",
      "adspend number of negatives:  0 , zeros:  56\n",
      "payout number of negatives:  0 , zeros:  0\n",
      "revenue number of negatives:  63689 , zeros:  98\n"
     ]
    },
    {
     "data": {
      "image/png": "[encoded data removed]",
      "text/plain": [
       "<Figure size 432x288 with 1 Axes>"
      ]
     },
     "metadata": {
      "needs_background": "light"
     },
     "output_type": "display_data"
    }
   ],
   "source": [
    "# check out for null values\n",
    "print('install null values: ',install.isnull().values.any())\n",
    "print('adspend null values: ',adspend.isnull().values.any())\n",
    "print('payout null values: ',payout.isnull().values.any())\n",
    "print('revenue null values: ',revenue.isnull().values.any())\n",
    "# check if there are any zeros or negatives in price columns\n",
    "print('adspend number of negatives: ',adspend[adspend['value_usd']<0]['value_usd'].count(),', zeros: ',\n",
    "      adspend[adspend['value_usd']==0]['value_usd'].count())\n",
    "print('payout number of negatives: ',payout[payout['value_usd']<0]['value_usd'].count(),', zeros: ',\n",
    "      payout[payout['value_usd']==0]['value_usd'].count())\n",
    "print('revenue number of negatives: ',revenue[revenue['value_usd']<0]['value_usd'].count(),', zeros: ',\n",
    "      revenue[revenue['value_usd']==0]['value_usd'].count())\n",
    "# check if data is consistant\n",
    "install_per_day = install.groupby('event_date')['install_id'].count().reset_index()\n",
    "install_per_day['event_date'] = install_per_day['event_date'].astype(\"datetime64\")\n",
    "hist(install_per_day['event_date'],weights=install_per_day['install_id'],bins=365)\n",
    "plt.show()"
   ]
  },
  {
   "cell_type": "code",
   "execution_count": 4,
   "id": "e8bc46ac",
   "metadata": {},
   "outputs": [],
   "source": [
    "# deleting negative prices in revenue table\n",
    "revenue = revenue[revenue['value_usd']>=0]"
   ]
  },
  {
   "cell_type": "markdown",
   "id": "471709cc",
   "metadata": {},
   "source": [
    "Financial KPIs"
   ]
  },
  {
   "cell_type": "code",
   "execution_count": 5,
   "id": "3b8157cc",
   "metadata": {},
   "outputs": [],
   "source": [
    "# adding daily costs and revenue to a table to track financial KPIs\n",
    "finance = revenue.groupby('event_date')['value_usd'].sum().reset_index()\n",
    "finance.rename(columns={'value_usd':'revenue'},inplace=True)\n",
    "finance = pd.merge(finance,payout.groupby('event_date')['value_usd'].sum().reset_index(),on='event_date')\n",
    "finance.rename(columns={'value_usd':'payout'},inplace=True)\n",
    "finance = pd.merge(finance,adspend.groupby('event_date')['value_usd'].sum().reset_index(),on='event_date')\n",
    "finance.rename(columns={'value_usd':'adspend'},inplace=True)"
   ]
  },
  {
   "cell_type": "code",
   "execution_count": 6,
   "id": "2c0f8c6f",
   "metadata": {},
   "outputs": [
    {
     "data": {
      "text/html": [
       "<div>\n",
       "<style scoped>\n",
       "    .dataframe tbody tr th:only-of-type {\n",
       "        vertical-align: middle;\n",
       "    }\n",
       "\n",
       "    .dataframe tbody tr th {\n",
       "        vertical-align: top;\n",
       "    }\n",
       "\n",
       "    .dataframe thead th {\n",
       "        text-align: right;\n",
       "    }\n",
       "</style>\n",
       "<table border=\"1\" class=\"dataframe\">\n",
       "  <thead>\n",
       "    <tr style=\"text-align: right;\">\n",
       "      <th></th>\n",
       "      <th>event_date</th>\n",
       "      <th>revenue</th>\n",
       "      <th>payout</th>\n",
       "      <th>adspend</th>\n",
       "      <th>cost</th>\n",
       "      <th>PC1</th>\n",
       "      <th>margin</th>\n",
       "      <th>adspend_share_of_cost</th>\n",
       "      <th>month_year</th>\n",
       "    </tr>\n",
       "  </thead>\n",
       "  <tbody>\n",
       "    <tr>\n",
       "      <th>0</th>\n",
       "      <td>2022-01-01</td>\n",
       "      <td>419.015757</td>\n",
       "      <td>1.143926</td>\n",
       "      <td>786.499993</td>\n",
       "      <td>787.643919</td>\n",
       "      <td>-368.628162</td>\n",
       "      <td>-0.879748</td>\n",
       "      <td>99.854766</td>\n",
       "      <td>2022-01</td>\n",
       "    </tr>\n",
       "    <tr>\n",
       "      <th>1</th>\n",
       "      <td>2022-01-02</td>\n",
       "      <td>616.019842</td>\n",
       "      <td>14.270760</td>\n",
       "      <td>1088.482990</td>\n",
       "      <td>1102.753750</td>\n",
       "      <td>-486.733908</td>\n",
       "      <td>-0.790127</td>\n",
       "      <td>98.705898</td>\n",
       "      <td>2022-01</td>\n",
       "    </tr>\n",
       "    <tr>\n",
       "      <th>2</th>\n",
       "      <td>2022-01-03</td>\n",
       "      <td>1005.264356</td>\n",
       "      <td>21.508074</td>\n",
       "      <td>805.581995</td>\n",
       "      <td>827.090069</td>\n",
       "      <td>178.174287</td>\n",
       "      <td>0.177241</td>\n",
       "      <td>97.399549</td>\n",
       "      <td>2022-01</td>\n",
       "    </tr>\n",
       "    <tr>\n",
       "      <th>3</th>\n",
       "      <td>2022-01-04</td>\n",
       "      <td>1006.449233</td>\n",
       "      <td>32.137488</td>\n",
       "      <td>748.925995</td>\n",
       "      <td>781.063483</td>\n",
       "      <td>225.385750</td>\n",
       "      <td>0.223941</td>\n",
       "      <td>95.885419</td>\n",
       "      <td>2022-01</td>\n",
       "    </tr>\n",
       "    <tr>\n",
       "      <th>4</th>\n",
       "      <td>2022-01-05</td>\n",
       "      <td>917.651720</td>\n",
       "      <td>71.051535</td>\n",
       "      <td>732.239995</td>\n",
       "      <td>803.291530</td>\n",
       "      <td>114.360190</td>\n",
       "      <td>0.124623</td>\n",
       "      <td>91.154950</td>\n",
       "      <td>2022-01</td>\n",
       "    </tr>\n",
       "    <tr>\n",
       "      <th>...</th>\n",
       "      <td>...</td>\n",
       "      <td>...</td>\n",
       "      <td>...</td>\n",
       "      <td>...</td>\n",
       "      <td>...</td>\n",
       "      <td>...</td>\n",
       "      <td>...</td>\n",
       "      <td>...</td>\n",
       "      <td>...</td>\n",
       "    </tr>\n",
       "    <tr>\n",
       "      <th>360</th>\n",
       "      <td>2022-12-27</td>\n",
       "      <td>858.463275</td>\n",
       "      <td>168.783580</td>\n",
       "      <td>656.968997</td>\n",
       "      <td>825.752577</td>\n",
       "      <td>32.710698</td>\n",
       "      <td>0.038104</td>\n",
       "      <td>79.560030</td>\n",
       "      <td>2022-12</td>\n",
       "    </tr>\n",
       "    <tr>\n",
       "      <th>361</th>\n",
       "      <td>2022-12-28</td>\n",
       "      <td>1027.358149</td>\n",
       "      <td>80.717956</td>\n",
       "      <td>621.997999</td>\n",
       "      <td>702.715955</td>\n",
       "      <td>324.642194</td>\n",
       "      <td>0.315997</td>\n",
       "      <td>88.513431</td>\n",
       "      <td>2022-12</td>\n",
       "    </tr>\n",
       "    <tr>\n",
       "      <th>362</th>\n",
       "      <td>2022-12-29</td>\n",
       "      <td>630.172810</td>\n",
       "      <td>114.731120</td>\n",
       "      <td>429.375002</td>\n",
       "      <td>544.106122</td>\n",
       "      <td>86.066688</td>\n",
       "      <td>0.136576</td>\n",
       "      <td>78.913834</td>\n",
       "      <td>2022-12</td>\n",
       "    </tr>\n",
       "    <tr>\n",
       "      <th>363</th>\n",
       "      <td>2022-12-30</td>\n",
       "      <td>967.483585</td>\n",
       "      <td>104.280799</td>\n",
       "      <td>552.793005</td>\n",
       "      <td>657.073804</td>\n",
       "      <td>310.409781</td>\n",
       "      <td>0.320842</td>\n",
       "      <td>84.129515</td>\n",
       "      <td>2022-12</td>\n",
       "    </tr>\n",
       "    <tr>\n",
       "      <th>364</th>\n",
       "      <td>2022-12-31</td>\n",
       "      <td>703.381202</td>\n",
       "      <td>124.011485</td>\n",
       "      <td>384.325003</td>\n",
       "      <td>508.336488</td>\n",
       "      <td>195.044714</td>\n",
       "      <td>0.277296</td>\n",
       "      <td>75.604449</td>\n",
       "      <td>2022-12</td>\n",
       "    </tr>\n",
       "  </tbody>\n",
       "</table>\n",
       "<p>365 rows × 9 columns</p>\n",
       "</div>"
      ],
      "text/plain": [
       "     event_date      revenue      payout      adspend         cost  \\\n",
       "0    2022-01-01   419.015757    1.143926   786.499993   787.643919   \n",
       "1    2022-01-02   616.019842   14.270760  1088.482990  1102.753750   \n",
       "2    2022-01-03  1005.264356   21.508074   805.581995   827.090069   \n",
       "3    2022-01-04  1006.449233   32.137488   748.925995   781.063483   \n",
       "4    2022-01-05   917.651720   71.051535   732.239995   803.291530   \n",
       "..          ...          ...         ...          ...          ...   \n",
       "360  2022-12-27   858.463275  168.783580   656.968997   825.752577   \n",
       "361  2022-12-28  1027.358149   80.717956   621.997999   702.715955   \n",
       "362  2022-12-29   630.172810  114.731120   429.375002   544.106122   \n",
       "363  2022-12-30   967.483585  104.280799   552.793005   657.073804   \n",
       "364  2022-12-31   703.381202  124.011485   384.325003   508.336488   \n",
       "\n",
       "            PC1    margin  adspend_share_of_cost month_year  \n",
       "0   -368.628162 -0.879748              99.854766    2022-01  \n",
       "1   -486.733908 -0.790127              98.705898    2022-01  \n",
       "2    178.174287  0.177241              97.399549    2022-01  \n",
       "3    225.385750  0.223941              95.885419    2022-01  \n",
       "4    114.360190  0.124623              91.154950    2022-01  \n",
       "..          ...       ...                    ...        ...  \n",
       "360   32.710698  0.038104              79.560030    2022-12  \n",
       "361  324.642194  0.315997              88.513431    2022-12  \n",
       "362   86.066688  0.136576              78.913834    2022-12  \n",
       "363  310.409781  0.320842              84.129515    2022-12  \n",
       "364  195.044714  0.277296              75.604449    2022-12  \n",
       "\n",
       "[365 rows x 9 columns]"
      ]
     },
     "execution_count": 6,
     "metadata": {},
     "output_type": "execute_result"
    }
   ],
   "source": [
    "# daily cost equals to payouts + adspends\n",
    "finance['cost'] = finance['payout'] + finance['adspend']\n",
    "finance['PC1'] = finance['revenue'] - finance['cost']\n",
    "finance['margin'] = finance['PC1'] / finance['revenue']\n",
    "# to have better idea of what has been our main cost during the time\n",
    "finance['adspend_share_of_cost'] = finance['adspend'] * 100 / finance['cost']\n",
    "# to track everything monthly\n",
    "finance['month_year'] = finance['event_date'].str[:7]\n",
    "# finance dataframe is ready for plots\n",
    "finance"
   ]
  },
  {
   "cell_type": "markdown",
   "id": "362a130e",
   "metadata": {},
   "source": [
    "Important KPIs"
   ]
  },
  {
   "cell_type": "code",
   "execution_count": 7,
   "id": "33dd0658",
   "metadata": {},
   "outputs": [],
   "source": [
    "# first lets look up revenue per install as a measure to find high potentials\n",
    "revenue_in_details = pd.merge(revenue, install,on='install_id')\n",
    "network_revenue = revenue_in_details.groupby('network_id').agg({'install_id':'count','value_usd':'sum'}).reset_index()\n",
    "network_revenue['revenue_per_install'] = network_revenue['value_usd'] / network_revenue['install_id']"
   ]
  },
  {
   "cell_type": "code",
   "execution_count": 8,
   "id": "0a86f813",
   "metadata": {},
   "outputs": [],
   "source": [
    "app_revenue = revenue_in_details.groupby('app_id').agg({'install_id':'count','value_usd':'sum'}).reset_index()\n",
    "app_revenue['revenue_per_install'] = app_revenue['value_usd'] / app_revenue['install_id']"
   ]
  },
  {
   "cell_type": "code",
   "execution_count": 9,
   "id": "d9bb6bac",
   "metadata": {},
   "outputs": [],
   "source": [
    "country_revenue = revenue_in_details.groupby('country_id').agg({'install_id':'count','value_usd':'sum'}).reset_index()\n",
    "country_revenue['revenue_per_install'] = country_revenue['value_usd'] / country_revenue['install_id']"
   ]
  },
  {
   "cell_type": "markdown",
   "id": "7a1d3e35",
   "metadata": {},
   "source": [
    "assumption"
   ]
  },
  {
   "cell_type": "code",
   "execution_count": 10,
   "id": "e6871bee",
   "metadata": {},
   "outputs": [
    {
     "name": "stdout",
     "output_type": "stream",
     "text": [
      "[ True  True  True  True  True  True  True  True  True  True  True  True\n",
      "  True  True  True  True  True  True  True  True  True  True  True  True\n",
      "  True  True  True]\n"
     ]
    }
   ],
   "source": [
    "# all client ids in adspend table are in app ids in app revenue table.\n",
    "# this can leads us to the point that clients are some of our apps that we decide to advertise for them\n",
    "print(np.isin(adspend['client_id'].unique(),app_revenue['app_id'].unique()))"
   ]
  },
  {
   "cell_type": "code",
   "execution_count": 11,
   "id": "a4c2063c",
   "metadata": {},
   "outputs": [],
   "source": [
    "# so lets compare the cost and revenue for every app/client that have had advertisements\n",
    "app_cost = adspend.groupby('client_id')['value_usd'].sum().reset_index()\n",
    "app_comparison = pd.merge(app_cost,app_revenue,left_on='client_id',right_on='app_id')\n",
    "app_comparison.rename(columns={'value_usd_x':'cost','value_usd_y':'revenue','install_id':'# installs'},inplace=True)\n",
    "app_comparison['cost per revenue'] = app_comparison['cost'] * 100 / app_comparison['revenue']"
   ]
  },
  {
   "cell_type": "markdown",
   "id": "ed73653e",
   "metadata": {},
   "source": [
    "payout in details"
   ]
  },
  {
   "cell_type": "code",
   "execution_count": 12,
   "id": "3b90ee36",
   "metadata": {},
   "outputs": [],
   "source": [
    "payout_in_details = pd.merge(payout,install,on='install_id')\n",
    "payout_in_apps = payout_in_details.groupby('app_id').agg({'install_id':'nunique','value_usd':'sum'}).reset_index()\n",
    "payout_in_apps = pd.merge(payout_in_apps,app_revenue,on='app_id')\n",
    "payout_in_apps.rename(columns={'install_id_x':'installs with payout','value_usd_x':'payout',\n",
    "                              'install_id_y':'total installs','value_usd_y':'revenue'},inplace=True)\n",
    "payout_in_apps['payout_per_install'] = payout_in_apps['installs with payout'] / payout_in_apps['total installs']\n",
    "payout_in_apps['payout_per_revenue'] = payout_in_apps['payout'] / payout_in_apps['revenue']"
   ]
  },
  {
   "cell_type": "markdown",
   "id": "b05fc9a5",
   "metadata": {},
   "source": [
    "Export excel files to visualize"
   ]
  },
  {
   "cell_type": "code",
   "execution_count": 13,
   "id": "2e096384",
   "metadata": {},
   "outputs": [],
   "source": [
    "# extract all ready files for visualization\n",
    "with pd.ExcelWriter('output.xlsx') as writer:\n",
    "    finance.to_excel(writer, sheet_name='financial_state')\n",
    "    network_revenue.to_excel(writer, sheet_name='network_revenue')\n",
    "    app_revenue.to_excel(writer, sheet_name='app_revenue')\n",
    "    country_revenue.to_excel(writer, sheet_name='country_revenue')\n",
    "    app_comparison.to_excel(writer, sheet_name='app_comparison')\n",
    "    payout_in_apps.to_excel(writer, sheet_name='payout_in_apps')"
   ]
  },
  {
   "cell_type": "code",
   "execution_count": null,
   "id": "224f063e",
   "metadata": {},
   "outputs": [],
   "source": []
  },
  {
   "cell_type": "code",
   "execution_count": null,
   "id": "04ff75f4",
   "metadata": {},
   "outputs": [],
   "source": []
  }
 ],
 "metadata": {
  "kernelspec": {
   "display_name": "Python 3 (ipykernel)",
   "language": "python",
   "name": "python3"
  },
  "language_info": {
   "codemirror_mode": {
    "name": "ipython",
    "version": 3
   },
   "file_extension": ".py",
   "mimetype": "text/x-python",
   "name": "python",
   "nbconvert_exporter": "python",
   "pygments_lexer": "ipython3",
   "version": "3.9.12"
  }
 },
 "nbformat": 4,
 "nbformat_minor": 5
}
